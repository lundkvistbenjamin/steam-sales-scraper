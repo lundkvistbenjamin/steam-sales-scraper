{
  "nbformat": 4,
  "nbformat_minor": 0,
  "metadata": {
    "colab": {
      "provenance": [],
      "authorship_tag": "ABX9TyOjLAPndEZKMzHJQhUxjiE9",
      "include_colab_link": true
    },
    "kernelspec": {
      "name": "python3",
      "display_name": "Python 3"
    },
    "language_info": {
      "name": "python"
    }
  },
  "cells": [
    {
      "cell_type": "markdown",
      "metadata": {
        "id": "view-in-github",
        "colab_type": "text"
      },
      "source": [
        "<a href=\"https://colab.research.google.com/github/lundkvistbenjamin/steam-sales-scraper/blob/main/steam_sales_scraper.ipynb\" target=\"_parent\"><img src=\"https://colab.research.google.com/assets/colab-badge.svg\" alt=\"Open In Colab\"/></a>"
      ]
    },
    {
      "cell_type": "markdown",
      "source": [
        "# Steam Sales Scraper\n",
        "This notebook scrapes discounted games from the Steam store, extracts key information, and saves it into a CSV file."
      ],
      "metadata": {
        "id": "cE9pZL2b3TYW"
      }
    },
    {
      "cell_type": "code",
      "execution_count": 1,
      "metadata": {
        "colab": {
          "base_uri": "https://localhost:8080/"
        },
        "collapsed": true,
        "id": "G8wUxlp_pbbg",
        "outputId": "3bc13690-546f-48d3-86ed-e0355356e145"
      },
      "outputs": [
        {
          "output_type": "stream",
          "name": "stdout",
          "text": [
            "Requirement already satisfied: beautifulsoup4 in /usr/local/lib/python3.11/dist-packages (4.13.3)\n",
            "Requirement already satisfied: pandas in /usr/local/lib/python3.11/dist-packages (2.2.2)\n",
            "Requirement already satisfied: requests in /usr/local/lib/python3.11/dist-packages (2.32.3)\n",
            "Requirement already satisfied: soupsieve>1.2 in /usr/local/lib/python3.11/dist-packages (from beautifulsoup4) (2.6)\n",
            "Requirement already satisfied: typing-extensions>=4.0.0 in /usr/local/lib/python3.11/dist-packages (from beautifulsoup4) (4.12.2)\n",
            "Requirement already satisfied: numpy>=1.23.2 in /usr/local/lib/python3.11/dist-packages (from pandas) (1.26.4)\n",
            "Requirement already satisfied: python-dateutil>=2.8.2 in /usr/local/lib/python3.11/dist-packages (from pandas) (2.8.2)\n",
            "Requirement already satisfied: pytz>=2020.1 in /usr/local/lib/python3.11/dist-packages (from pandas) (2025.1)\n",
            "Requirement already satisfied: tzdata>=2022.7 in /usr/local/lib/python3.11/dist-packages (from pandas) (2025.1)\n",
            "Requirement already satisfied: charset-normalizer<4,>=2 in /usr/local/lib/python3.11/dist-packages (from requests) (3.4.1)\n",
            "Requirement already satisfied: idna<4,>=2.5 in /usr/local/lib/python3.11/dist-packages (from requests) (3.10)\n",
            "Requirement already satisfied: urllib3<3,>=1.21.1 in /usr/local/lib/python3.11/dist-packages (from requests) (2.3.0)\n",
            "Requirement already satisfied: certifi>=2017.4.17 in /usr/local/lib/python3.11/dist-packages (from requests) (2025.1.31)\n",
            "Requirement already satisfied: six>=1.5 in /usr/local/lib/python3.11/dist-packages (from python-dateutil>=2.8.2->pandas) (1.17.0)\n"
          ]
        }
      ],
      "source": [
        "# Install dependencies\n",
        "!pip install beautifulsoup4 pandas requests"
      ]
    },
    {
      "cell_type": "markdown",
      "source": [
        "## 1. Fetch and Parse Steam Sales Pages\n",
        "We will fetch the first five pages of discounted games from Steam and store the HTML."
      ],
      "metadata": {
        "id": "qQou2_RZ3b7i"
      }
    },
    {
      "cell_type": "code",
      "source": [
        "import requests\n",
        "\n",
        "pages_html = \"\"\n",
        "\n",
        "# Loop through 5 pages\n",
        "for page_number in range(1, 6):\n",
        "    res = requests.get(f\"https://store.steampowered.com/search/?supportedlang=english&specials=1&page={page_number}&ndl=1\")\n",
        "    pages_html += res.text"
      ],
      "metadata": {
        "id": "Xy8EhiiL3a12"
      },
      "execution_count": 2,
      "outputs": []
    },
    {
      "cell_type": "markdown",
      "source": [
        "## 2. Parse HTML with BeautifulSoup\n",
        "We will parse the HTML and extract relevant game information."
      ],
      "metadata": {
        "id": "8opsJAW13p9t"
      }
    },
    {
      "cell_type": "code",
      "source": [
        "from bs4 import BeautifulSoup\n",
        "\n",
        "soup = BeautifulSoup(pages_html, \"html.parser\")\n",
        "\n",
        "# Find all game containers\n",
        "game_containers = soup.find_all(\"div\", {\"class\": \"responsive_search_name_combined\"})"
      ],
      "metadata": {
        "id": "Hw5qOtwB3oHe"
      },
      "execution_count": 3,
      "outputs": []
    },
    {
      "cell_type": "markdown",
      "source": [
        "## 3. Extract Game Titles\n",
        "Each game title is stored in a `<span>` tag with the class `\"title\"`."
      ],
      "metadata": {
        "id": "NdVMXohb4XnY"
      }
    },
    {
      "cell_type": "code",
      "source": [
        "titles = [\n",
        "    game.find(\"span\", {\"class\": \"title\"}).text\n",
        "    if game.find(\"span\", {\"class\": \"title\"}) else None\n",
        "    for game in game_containers\n",
        "]"
      ],
      "metadata": {
        "id": "idUaNbyI4X_M"
      },
      "execution_count": 4,
      "outputs": []
    },
    {
      "cell_type": "markdown",
      "source": [
        "## 4. Extract Game Ratings and Review Counts\n",
        "We extract rating descriptions and the number of reviews."
      ],
      "metadata": {
        "id": "jKnUFplZ4ddu"
      }
    },
    {
      "cell_type": "code",
      "source": [
        "rating_system = [\"Overwhelmingly Negative\", \"Very Negative\", \"Negative\", \"Mostly Negative\",\n",
        "                 \"Mixed\", \"Mostly Positive\", \"Positive\", \"Very Positive\", \"Overwhelmingly Positive\"]\n",
        "\n",
        "ratings = []\n",
        "reviews = []\n",
        "\n",
        "for game in game_containers:\n",
        "    rating_span = game.find(\"span\", {\"class\": \"search_review_summary\"})\n",
        "\n",
        "    if rating_span:\n",
        "        data_tooltip = rating_span[\"data-tooltip-html\"]\n",
        "        rating = data_tooltip.split(\"<br>\")[0]\n",
        "        ratings.append(rating_system.index(rating))  # Convert rating to index\n",
        "        reviews.append(data_tooltip.split(\"<br>\")[1].split(\" \")[3])  # Extract review count\n",
        "    else:\n",
        "        ratings.append(None)\n",
        "        reviews.append(None)"
      ],
      "metadata": {
        "id": "g5J3mELn4iwS"
      },
      "execution_count": 5,
      "outputs": []
    },
    {
      "cell_type": "markdown",
      "source": [
        "## 5. Extract Discounts, Prices, and Original Prices"
      ],
      "metadata": {
        "id": "wXF3nvdq4wo9"
      }
    },
    {
      "cell_type": "code",
      "source": [
        "import re\n",
        "\n",
        "def parse_price(price_str):\n",
        "    if price_str:\n",
        "        clean_price = re.sub(r\"[^\\d.,]\", \"\", price_str)  # Remove non-numeric characters except '.' and ','\n",
        "        return float(clean_price.replace(\",\", \".\"))  # Convert comma to dot\n",
        "    return None\n",
        "\n",
        "discounts = [\n",
        "    int(game.find(\"div\", {\"class\": \"discount_pct\"}).text.strip(\"%\"))\n",
        "    if game.find(\"div\", {\"class\": \"discount_pct\"}) else None\n",
        "    for game in game_containers\n",
        "]\n",
        "\n",
        "prices = [\n",
        "    parse_price(game.find(\"div\", {\"class\": \"discount_final_price\"}).text)\n",
        "    if game.find(\"div\", {\"class\": \"discount_final_price\"}) else None\n",
        "    for game in game_containers\n",
        "]\n",
        "\n",
        "original_prices = [\n",
        "    parse_price(game.find(\"div\", {\"class\": \"discount_original_price\"}).text)\n",
        "    if game.find(\"div\", {\"class\": \"discount_original_price\"}) else None\n",
        "    for game in game_containers\n",
        "]"
      ],
      "metadata": {
        "id": "P-isOjCX4xdJ"
      },
      "execution_count": 6,
      "outputs": []
    },
    {
      "cell_type": "markdown",
      "source": [
        "## 6. Extract Release Dates"
      ],
      "metadata": {
        "id": "-WSkXSSN4y0q"
      }
    },
    {
      "cell_type": "code",
      "source": [
        "release_dates = [\n",
        "    game.find(\"div\", {\"class\": \"search_released\"}).text.strip()\n",
        "    if len(game.find(\"div\", {\"class\": \"search_released\"}).text) > 2 else None\n",
        "    for game in game_containers\n",
        "]"
      ],
      "metadata": {
        "id": "lmUHXMo440S7"
      },
      "execution_count": 7,
      "outputs": []
    },
    {
      "cell_type": "markdown",
      "source": [
        "## 7. Extract Platform Compatibility"
      ],
      "metadata": {
        "id": "wY1_Oyoj43CL"
      }
    },
    {
      "cell_type": "code",
      "source": [
        "win = []\n",
        "lin = []\n",
        "osx = []\n",
        "\n",
        "for game in game_containers:\n",
        "    platforms = [platform[\"class\"][1] for platform in game.find_all(\"span\", {\"class\": \"platform_img\"})]\n",
        "\n",
        "    win.append(1 if \"win\" in platforms else 0)\n",
        "    lin.append(1 if \"linux\" in platforms else 0)\n",
        "    osx.append(1 if \"mac\" in platforms else 0)"
      ],
      "metadata": {
        "id": "_qkGHGXt4455"
      },
      "execution_count": 8,
      "outputs": []
    },
    {
      "cell_type": "markdown",
      "source": [
        "## 8. Store Data in Pandas DataFrame"
      ],
      "metadata": {
        "id": "Xe0uQsYe46cs"
      }
    },
    {
      "cell_type": "code",
      "source": [
        "from datetime import datetime\n",
        "import pandas as pd\n",
        "\n",
        "current_time = datetime.now().strftime(\"%Y-%m-%d %H:%M\")\n",
        "fetch_times = [current_time for _ in game_containers]\n",
        "\n",
        "data = {\n",
        "    \"Game Name\": titles,\n",
        "    \"Rating\": ratings,\n",
        "    \"#Reviews\": reviews,\n",
        "    \"Discount%\": discounts,\n",
        "    \"Price (€)\": prices,\n",
        "    \"Original Price (€)\": original_prices,\n",
        "    \"Release Date\": release_dates,\n",
        "    \"Windows\": win,\n",
        "    \"Linux\": lin,\n",
        "    \"MacOS\": osx,\n",
        "    \"Fetched At\": fetch_times\n",
        "}\n",
        "\n",
        "steam_sales = pd.DataFrame(data)\n",
        "\n",
        "# Drop missing values\n",
        "filtered_steam_sales = steam_sales.dropna()\n",
        "\n",
        "# Show first few rows\n",
        "filtered_steam_sales.head()"
      ],
      "metadata": {
        "colab": {
          "base_uri": "https://localhost:8080/",
          "height": 206
        },
        "id": "b3hGjgpI47lG",
        "outputId": "bee07a20-66c5-4b97-9ece-65fd6e36808a"
      },
      "execution_count": 9,
      "outputs": [
        {
          "output_type": "execute_result",
          "data": {
            "text/plain": [
              "                      Game Name  Rating #Reviews  Discount%  Price (€)  \\\n",
              "0  Sea of Thieves: 2024 Edition       7  300,690      -65.0      13.99   \n",
              "1      Total War: WARHAMMER III       5   81,002      -60.0      23.99   \n",
              "2                      NBA 2K25       4   14,146      -67.0      23.09   \n",
              "3            The Outlast Trials       7   51,475      -60.0      15.99   \n",
              "4    Lost Records: Bloom & Rage       7      312      -10.0      35.99   \n",
              "\n",
              "   Original Price (€)  Release Date  Windows  Linux  MacOS        Fetched At  \n",
              "0               39.99   Jun 3, 2020        1      0      0  2025-02-19 16:20  \n",
              "1               59.99  Feb 16, 2022        1      1      1  2025-02-19 16:20  \n",
              "2               69.99  Oct 28, 2024        1      0      0  2025-02-19 16:20  \n",
              "3               39.99   Mar 5, 2024        1      0      0  2025-02-19 16:20  \n",
              "4               39.99  Feb 18, 2025        1      0      0  2025-02-19 16:20  "
            ],
            "text/html": [
              "\n",
              "  <div id=\"df-10d71966-257d-40db-9da8-c84eac2d497d\" class=\"colab-df-container\">\n",
              "    <div>\n",
              "<style scoped>\n",
              "    .dataframe tbody tr th:only-of-type {\n",
              "        vertical-align: middle;\n",
              "    }\n",
              "\n",
              "    .dataframe tbody tr th {\n",
              "        vertical-align: top;\n",
              "    }\n",
              "\n",
              "    .dataframe thead th {\n",
              "        text-align: right;\n",
              "    }\n",
              "</style>\n",
              "<table border=\"1\" class=\"dataframe\">\n",
              "  <thead>\n",
              "    <tr style=\"text-align: right;\">\n",
              "      <th></th>\n",
              "      <th>Game Name</th>\n",
              "      <th>Rating</th>\n",
              "      <th>#Reviews</th>\n",
              "      <th>Discount%</th>\n",
              "      <th>Price (€)</th>\n",
              "      <th>Original Price (€)</th>\n",
              "      <th>Release Date</th>\n",
              "      <th>Windows</th>\n",
              "      <th>Linux</th>\n",
              "      <th>MacOS</th>\n",
              "      <th>Fetched At</th>\n",
              "    </tr>\n",
              "  </thead>\n",
              "  <tbody>\n",
              "    <tr>\n",
              "      <th>0</th>\n",
              "      <td>Sea of Thieves: 2024 Edition</td>\n",
              "      <td>7</td>\n",
              "      <td>300,690</td>\n",
              "      <td>-65.0</td>\n",
              "      <td>13.99</td>\n",
              "      <td>39.99</td>\n",
              "      <td>Jun 3, 2020</td>\n",
              "      <td>1</td>\n",
              "      <td>0</td>\n",
              "      <td>0</td>\n",
              "      <td>2025-02-19 16:20</td>\n",
              "    </tr>\n",
              "    <tr>\n",
              "      <th>1</th>\n",
              "      <td>Total War: WARHAMMER III</td>\n",
              "      <td>5</td>\n",
              "      <td>81,002</td>\n",
              "      <td>-60.0</td>\n",
              "      <td>23.99</td>\n",
              "      <td>59.99</td>\n",
              "      <td>Feb 16, 2022</td>\n",
              "      <td>1</td>\n",
              "      <td>1</td>\n",
              "      <td>1</td>\n",
              "      <td>2025-02-19 16:20</td>\n",
              "    </tr>\n",
              "    <tr>\n",
              "      <th>2</th>\n",
              "      <td>NBA 2K25</td>\n",
              "      <td>4</td>\n",
              "      <td>14,146</td>\n",
              "      <td>-67.0</td>\n",
              "      <td>23.09</td>\n",
              "      <td>69.99</td>\n",
              "      <td>Oct 28, 2024</td>\n",
              "      <td>1</td>\n",
              "      <td>0</td>\n",
              "      <td>0</td>\n",
              "      <td>2025-02-19 16:20</td>\n",
              "    </tr>\n",
              "    <tr>\n",
              "      <th>3</th>\n",
              "      <td>The Outlast Trials</td>\n",
              "      <td>7</td>\n",
              "      <td>51,475</td>\n",
              "      <td>-60.0</td>\n",
              "      <td>15.99</td>\n",
              "      <td>39.99</td>\n",
              "      <td>Mar 5, 2024</td>\n",
              "      <td>1</td>\n",
              "      <td>0</td>\n",
              "      <td>0</td>\n",
              "      <td>2025-02-19 16:20</td>\n",
              "    </tr>\n",
              "    <tr>\n",
              "      <th>4</th>\n",
              "      <td>Lost Records: Bloom &amp; Rage</td>\n",
              "      <td>7</td>\n",
              "      <td>312</td>\n",
              "      <td>-10.0</td>\n",
              "      <td>35.99</td>\n",
              "      <td>39.99</td>\n",
              "      <td>Feb 18, 2025</td>\n",
              "      <td>1</td>\n",
              "      <td>0</td>\n",
              "      <td>0</td>\n",
              "      <td>2025-02-19 16:20</td>\n",
              "    </tr>\n",
              "  </tbody>\n",
              "</table>\n",
              "</div>\n",
              "    <div class=\"colab-df-buttons\">\n",
              "\n",
              "  <div class=\"colab-df-container\">\n",
              "    <button class=\"colab-df-convert\" onclick=\"convertToInteractive('df-10d71966-257d-40db-9da8-c84eac2d497d')\"\n",
              "            title=\"Convert this dataframe to an interactive table.\"\n",
              "            style=\"display:none;\">\n",
              "\n",
              "  <svg xmlns=\"http://www.w3.org/2000/svg\" height=\"24px\" viewBox=\"0 -960 960 960\">\n",
              "    <path d=\"M120-120v-720h720v720H120Zm60-500h600v-160H180v160Zm220 220h160v-160H400v160Zm0 220h160v-160H400v160ZM180-400h160v-160H180v160Zm440 0h160v-160H620v160ZM180-180h160v-160H180v160Zm440 0h160v-160H620v160Z\"/>\n",
              "  </svg>\n",
              "    </button>\n",
              "\n",
              "  <style>\n",
              "    .colab-df-container {\n",
              "      display:flex;\n",
              "      gap: 12px;\n",
              "    }\n",
              "\n",
              "    .colab-df-convert {\n",
              "      background-color: #E8F0FE;\n",
              "      border: none;\n",
              "      border-radius: 50%;\n",
              "      cursor: pointer;\n",
              "      display: none;\n",
              "      fill: #1967D2;\n",
              "      height: 32px;\n",
              "      padding: 0 0 0 0;\n",
              "      width: 32px;\n",
              "    }\n",
              "\n",
              "    .colab-df-convert:hover {\n",
              "      background-color: #E2EBFA;\n",
              "      box-shadow: 0px 1px 2px rgba(60, 64, 67, 0.3), 0px 1px 3px 1px rgba(60, 64, 67, 0.15);\n",
              "      fill: #174EA6;\n",
              "    }\n",
              "\n",
              "    .colab-df-buttons div {\n",
              "      margin-bottom: 4px;\n",
              "    }\n",
              "\n",
              "    [theme=dark] .colab-df-convert {\n",
              "      background-color: #3B4455;\n",
              "      fill: #D2E3FC;\n",
              "    }\n",
              "\n",
              "    [theme=dark] .colab-df-convert:hover {\n",
              "      background-color: #434B5C;\n",
              "      box-shadow: 0px 1px 3px 1px rgba(0, 0, 0, 0.15);\n",
              "      filter: drop-shadow(0px 1px 2px rgba(0, 0, 0, 0.3));\n",
              "      fill: #FFFFFF;\n",
              "    }\n",
              "  </style>\n",
              "\n",
              "    <script>\n",
              "      const buttonEl =\n",
              "        document.querySelector('#df-10d71966-257d-40db-9da8-c84eac2d497d button.colab-df-convert');\n",
              "      buttonEl.style.display =\n",
              "        google.colab.kernel.accessAllowed ? 'block' : 'none';\n",
              "\n",
              "      async function convertToInteractive(key) {\n",
              "        const element = document.querySelector('#df-10d71966-257d-40db-9da8-c84eac2d497d');\n",
              "        const dataTable =\n",
              "          await google.colab.kernel.invokeFunction('convertToInteractive',\n",
              "                                                    [key], {});\n",
              "        if (!dataTable) return;\n",
              "\n",
              "        const docLinkHtml = 'Like what you see? Visit the ' +\n",
              "          '<a target=\"_blank\" href=https://colab.research.google.com/notebooks/data_table.ipynb>data table notebook</a>'\n",
              "          + ' to learn more about interactive tables.';\n",
              "        element.innerHTML = '';\n",
              "        dataTable['output_type'] = 'display_data';\n",
              "        await google.colab.output.renderOutput(dataTable, element);\n",
              "        const docLink = document.createElement('div');\n",
              "        docLink.innerHTML = docLinkHtml;\n",
              "        element.appendChild(docLink);\n",
              "      }\n",
              "    </script>\n",
              "  </div>\n",
              "\n",
              "\n",
              "<div id=\"df-e673f513-b5b8-4c58-ac5c-caad7100f254\">\n",
              "  <button class=\"colab-df-quickchart\" onclick=\"quickchart('df-e673f513-b5b8-4c58-ac5c-caad7100f254')\"\n",
              "            title=\"Suggest charts\"\n",
              "            style=\"display:none;\">\n",
              "\n",
              "<svg xmlns=\"http://www.w3.org/2000/svg\" height=\"24px\"viewBox=\"0 0 24 24\"\n",
              "     width=\"24px\">\n",
              "    <g>\n",
              "        <path d=\"M19 3H5c-1.1 0-2 .9-2 2v14c0 1.1.9 2 2 2h14c1.1 0 2-.9 2-2V5c0-1.1-.9-2-2-2zM9 17H7v-7h2v7zm4 0h-2V7h2v10zm4 0h-2v-4h2v4z\"/>\n",
              "    </g>\n",
              "</svg>\n",
              "  </button>\n",
              "\n",
              "<style>\n",
              "  .colab-df-quickchart {\n",
              "      --bg-color: #E8F0FE;\n",
              "      --fill-color: #1967D2;\n",
              "      --hover-bg-color: #E2EBFA;\n",
              "      --hover-fill-color: #174EA6;\n",
              "      --disabled-fill-color: #AAA;\n",
              "      --disabled-bg-color: #DDD;\n",
              "  }\n",
              "\n",
              "  [theme=dark] .colab-df-quickchart {\n",
              "      --bg-color: #3B4455;\n",
              "      --fill-color: #D2E3FC;\n",
              "      --hover-bg-color: #434B5C;\n",
              "      --hover-fill-color: #FFFFFF;\n",
              "      --disabled-bg-color: #3B4455;\n",
              "      --disabled-fill-color: #666;\n",
              "  }\n",
              "\n",
              "  .colab-df-quickchart {\n",
              "    background-color: var(--bg-color);\n",
              "    border: none;\n",
              "    border-radius: 50%;\n",
              "    cursor: pointer;\n",
              "    display: none;\n",
              "    fill: var(--fill-color);\n",
              "    height: 32px;\n",
              "    padding: 0;\n",
              "    width: 32px;\n",
              "  }\n",
              "\n",
              "  .colab-df-quickchart:hover {\n",
              "    background-color: var(--hover-bg-color);\n",
              "    box-shadow: 0 1px 2px rgba(60, 64, 67, 0.3), 0 1px 3px 1px rgba(60, 64, 67, 0.15);\n",
              "    fill: var(--button-hover-fill-color);\n",
              "  }\n",
              "\n",
              "  .colab-df-quickchart-complete:disabled,\n",
              "  .colab-df-quickchart-complete:disabled:hover {\n",
              "    background-color: var(--disabled-bg-color);\n",
              "    fill: var(--disabled-fill-color);\n",
              "    box-shadow: none;\n",
              "  }\n",
              "\n",
              "  .colab-df-spinner {\n",
              "    border: 2px solid var(--fill-color);\n",
              "    border-color: transparent;\n",
              "    border-bottom-color: var(--fill-color);\n",
              "    animation:\n",
              "      spin 1s steps(1) infinite;\n",
              "  }\n",
              "\n",
              "  @keyframes spin {\n",
              "    0% {\n",
              "      border-color: transparent;\n",
              "      border-bottom-color: var(--fill-color);\n",
              "      border-left-color: var(--fill-color);\n",
              "    }\n",
              "    20% {\n",
              "      border-color: transparent;\n",
              "      border-left-color: var(--fill-color);\n",
              "      border-top-color: var(--fill-color);\n",
              "    }\n",
              "    30% {\n",
              "      border-color: transparent;\n",
              "      border-left-color: var(--fill-color);\n",
              "      border-top-color: var(--fill-color);\n",
              "      border-right-color: var(--fill-color);\n",
              "    }\n",
              "    40% {\n",
              "      border-color: transparent;\n",
              "      border-right-color: var(--fill-color);\n",
              "      border-top-color: var(--fill-color);\n",
              "    }\n",
              "    60% {\n",
              "      border-color: transparent;\n",
              "      border-right-color: var(--fill-color);\n",
              "    }\n",
              "    80% {\n",
              "      border-color: transparent;\n",
              "      border-right-color: var(--fill-color);\n",
              "      border-bottom-color: var(--fill-color);\n",
              "    }\n",
              "    90% {\n",
              "      border-color: transparent;\n",
              "      border-bottom-color: var(--fill-color);\n",
              "    }\n",
              "  }\n",
              "</style>\n",
              "\n",
              "  <script>\n",
              "    async function quickchart(key) {\n",
              "      const quickchartButtonEl =\n",
              "        document.querySelector('#' + key + ' button');\n",
              "      quickchartButtonEl.disabled = true;  // To prevent multiple clicks.\n",
              "      quickchartButtonEl.classList.add('colab-df-spinner');\n",
              "      try {\n",
              "        const charts = await google.colab.kernel.invokeFunction(\n",
              "            'suggestCharts', [key], {});\n",
              "      } catch (error) {\n",
              "        console.error('Error during call to suggestCharts:', error);\n",
              "      }\n",
              "      quickchartButtonEl.classList.remove('colab-df-spinner');\n",
              "      quickchartButtonEl.classList.add('colab-df-quickchart-complete');\n",
              "    }\n",
              "    (() => {\n",
              "      let quickchartButtonEl =\n",
              "        document.querySelector('#df-e673f513-b5b8-4c58-ac5c-caad7100f254 button');\n",
              "      quickchartButtonEl.style.display =\n",
              "        google.colab.kernel.accessAllowed ? 'block' : 'none';\n",
              "    })();\n",
              "  </script>\n",
              "</div>\n",
              "\n",
              "    </div>\n",
              "  </div>\n"
            ],
            "application/vnd.google.colaboratory.intrinsic+json": {
              "type": "dataframe",
              "variable_name": "filtered_steam_sales",
              "summary": "{\n  \"name\": \"filtered_steam_sales\",\n  \"rows\": 93,\n  \"fields\": [\n    {\n      \"column\": \"Game Name\",\n      \"properties\": {\n        \"dtype\": \"string\",\n        \"num_unique_values\": 92,\n        \"samples\": [\n          \"Overcooked! 2\",\n          \"Total War: WARHAMMER\",\n          \"Call of Duty\\u00ae: Modern Warfare\\u00ae\"\n        ],\n        \"semantic_type\": \"\",\n        \"description\": \"\"\n      }\n    },\n    {\n      \"column\": \"Rating\",\n      \"properties\": {\n        \"dtype\": \"number\",\n        \"std\": 1,\n        \"min\": 3,\n        \"max\": 8,\n        \"num_unique_values\": 5,\n        \"samples\": [\n          5,\n          3,\n          4\n        ],\n        \"semantic_type\": \"\",\n        \"description\": \"\"\n      }\n    },\n    {\n      \"column\": \"#Reviews\",\n      \"properties\": {\n        \"dtype\": \"string\",\n        \"num_unique_values\": 91,\n        \"samples\": [\n          \"9,318\",\n          \"17,749\",\n          \"5,015\"\n        ],\n        \"semantic_type\": \"\",\n        \"description\": \"\"\n      }\n    },\n    {\n      \"column\": \"Discount%\",\n      \"properties\": {\n        \"dtype\": \"number\",\n        \"std\": 24.71990829862967,\n        \"min\": -95.0,\n        \"max\": -10.0,\n        \"num_unique_values\": 20,\n        \"samples\": [\n          -65.0,\n          -66.0,\n          -17.0\n        ],\n        \"semantic_type\": \"\",\n        \"description\": \"\"\n      }\n    },\n    {\n      \"column\": \"Price (\\u20ac)\",\n      \"properties\": {\n        \"dtype\": \"number\",\n        \"std\": 7.5068286833869085,\n        \"min\": 2.39,\n        \"max\": 35.99,\n        \"num_unique_values\": 48,\n        \"samples\": [\n          6.24,\n          34.99,\n          11.99\n        ],\n        \"semantic_type\": \"\",\n        \"description\": \"\"\n      }\n    },\n    {\n      \"column\": \"Original Price (\\u20ac)\",\n      \"properties\": {\n        \"dtype\": \"number\",\n        \"std\": 18.571673478007465,\n        \"min\": 2.99,\n        \"max\": 69.99,\n        \"num_unique_values\": 19,\n        \"samples\": [\n          39.99,\n          24.99,\n          13.99\n        ],\n        \"semantic_type\": \"\",\n        \"description\": \"\"\n      }\n    },\n    {\n      \"column\": \"Release Date\",\n      \"properties\": {\n        \"dtype\": \"object\",\n        \"num_unique_values\": 82,\n        \"samples\": [\n          \"Feb 21, 2024\",\n          \"Jun 3, 2020\",\n          \"Jul 25, 2024\"\n        ],\n        \"semantic_type\": \"\",\n        \"description\": \"\"\n      }\n    },\n    {\n      \"column\": \"Windows\",\n      \"properties\": {\n        \"dtype\": \"number\",\n        \"std\": 0,\n        \"min\": 1,\n        \"max\": 1,\n        \"num_unique_values\": 1,\n        \"samples\": [\n          1\n        ],\n        \"semantic_type\": \"\",\n        \"description\": \"\"\n      }\n    },\n    {\n      \"column\": \"Linux\",\n      \"properties\": {\n        \"dtype\": \"number\",\n        \"std\": 0,\n        \"min\": 0,\n        \"max\": 1,\n        \"num_unique_values\": 2,\n        \"samples\": [\n          1\n        ],\n        \"semantic_type\": \"\",\n        \"description\": \"\"\n      }\n    },\n    {\n      \"column\": \"MacOS\",\n      \"properties\": {\n        \"dtype\": \"number\",\n        \"std\": 0,\n        \"min\": 0,\n        \"max\": 1,\n        \"num_unique_values\": 2,\n        \"samples\": [\n          1\n        ],\n        \"semantic_type\": \"\",\n        \"description\": \"\"\n      }\n    },\n    {\n      \"column\": \"Fetched At\",\n      \"properties\": {\n        \"dtype\": \"object\",\n        \"num_unique_values\": 1,\n        \"samples\": [\n          \"2025-02-19 16:20\"\n        ],\n        \"semantic_type\": \"\",\n        \"description\": \"\"\n      }\n    }\n  ]\n}"
            }
          },
          "metadata": {},
          "execution_count": 9
        }
      ]
    },
    {
      "cell_type": "markdown",
      "source": [
        "## 9. Save Data to CSV\n",
        "If the file doesn't exist, create it. Otherwise, append the new data."
      ],
      "metadata": {
        "id": "TKiANbNr48cz"
      }
    },
    {
      "cell_type": "code",
      "source": [
        "import os\n",
        "\n",
        "file_path = \"steam_sales.csv\"\n",
        "\n",
        "if not os.path.exists(file_path):\n",
        "    filtered_steam_sales.to_csv(file_path, index=False)\n",
        "else:\n",
        "    filtered_steam_sales.to_csv(file_path, mode=\"a\", index=False, header=False)\n",
        "\n",
        "print(f\"Data saved to {file_path}\")"
      ],
      "metadata": {
        "colab": {
          "base_uri": "https://localhost:8080/"
        },
        "id": "1y26pEDh4_vg",
        "outputId": "6e0c172a-16d2-4a29-80e8-6e1987770dcd"
      },
      "execution_count": 10,
      "outputs": [
        {
          "output_type": "stream",
          "name": "stdout",
          "text": [
            "Data saved to steam_sales.csv\n"
          ]
        }
      ]
    }
  ]
}